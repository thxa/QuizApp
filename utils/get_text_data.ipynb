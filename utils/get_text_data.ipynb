{
  "cells": [
    {
      "cell_type": "code",
      "metadata": {
        "jukit_cell_id": "NONE"
      },
      "source": [
        "import requests \n",
        "\n",
        "\n",
        "ck = \"drive\"\n",
        "ds = \"APznzaYz1eQxaF1u0g3Mj0RsGeL8LmZEzL-1A2_N1X5ATSZ_prbKpz6dmJV6nYVgfUBGLnMiHuPoT6vspGlYdeROU60kfgt-eLp4zePdCeFuCie_dHcxl3G6SlQlebovAorTka2_HV3yLNynjRF31HGv9Vtev0Cwx97q6A99Wdlc1DGWQev6TUZAgrfhtntDhxDmnhasg0h0eBGzxwGZI2lZVrYkJ7Rqiru1J2pUgcfi1m-_oroBrB-J_l2J67Qhh3jUHN8mgoc2N7zRhjD2VgkBQ0H6-AXzFcvVXEe5xSVxiJCsD-A3XcBmiv2wZWn1506noI3Lxov3UAEnVhibjCrYYbSKHM0axJ6H1eIdzUbUN5iR1y4JRyCTHAXp3yaQ7UKyY7KvkhVDf8h9Jq5eFlkGW8AeyC7aTw==\"\n",
        "authuser = 0 \n",
        "page = 4\n",
        "\n",
        "url_ = f\"https://drive.google.com/viewer2/prod-03/presspage?ck={ck}&ds={ds}&authuser={authuser}&page={page}\"\n",
        "\n",
        "\n",
        "\n",
        "\n",
        "\n",
        "\n",
        "data = requests.get(url_)\n",
        "\n",
        "\n",
        "_"
      ],
      "outputs": [],
      "execution_count": null
    }
  ],
  "metadata": {
    "anaconda-cloud": {},
    "kernelspec": {
      "display_name": "python",
      "language": "python",
      "name": "python3"
    }
  },
  "nbformat": 4,
  "nbformat_minor": 4
}